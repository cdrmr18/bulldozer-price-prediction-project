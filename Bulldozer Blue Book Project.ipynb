{
 "cells": [
  {
   "cell_type": "markdown",
   "id": "b7006a2b",
   "metadata": {},
   "source": [
    "# Predicting the Sale Price of Bulldozers using Machine Learning\n",
    "\n",
    "In this notebook, we are going to go through an example ML project with the goal of predicitng the sales price of bulldozers.\n",
    "\n",
    "## 1. Problem definition\n",
    "\n",
    "> How well can we predict the future sales price of a bulldozer given its characteristics and previous examples of how much similar bulldozers have been sold for?\n",
    "\n",
    "## 2. Data\n",
    "\n",
    "> The data is downloaded from Kaggle Bulldozers competition.\n",
    "\n",
    "There are 3 main datatsets:\n",
    "* Train set\n",
    "* Validation set\n",
    "* Test set\n",
    "\n",
    "## 3. Evaluation\n",
    "\n",
    "The evaluatoin metric for this competition is the RMSLE (root mean squred log error) between the actual and predicted auction prices.\n",
    "\n",
    "The goal for most regression evaluation metrics is to minimize the error. For example, our goal for this project is to build a ML model that minimizes RMSLE.\n",
    "\n",
    "## 4. Features\n",
    "You can view the data dictionary on Google sheets: https://docs.google.com/spreadsheets/d/1HCuYOGgQxelSfoYIycpkmV1g6EZ7f3_R/edit?usp=sharing&ouid=111617277914745417208&rtpof=true&sd=true"
   ]
  },
  {
   "cell_type": "code",
   "execution_count": 2,
   "id": "2759abde",
   "metadata": {},
   "outputs": [],
   "source": [
    "import pandas as pd\n",
    "import numpy as np\n",
    "import matplotlib.pyplot as plt\n",
    "%matplotlib inline"
   ]
  },
  {
   "cell_type": "code",
   "execution_count": 5,
   "id": "080619aa",
   "metadata": {},
   "outputs": [],
   "source": []
  },
  {
   "cell_type": "code",
   "execution_count": null,
   "id": "e25e49f1",
   "metadata": {},
   "outputs": [],
   "source": []
  }
 ],
 "metadata": {
  "kernelspec": {
   "display_name": "Python 3 (ipykernel)",
   "language": "python",
   "name": "python3"
  },
  "language_info": {
   "codemirror_mode": {
    "name": "ipython",
    "version": 3
   },
   "file_extension": ".py",
   "mimetype": "text/x-python",
   "name": "python",
   "nbconvert_exporter": "python",
   "pygments_lexer": "ipython3",
   "version": "3.10.6"
  }
 },
 "nbformat": 4,
 "nbformat_minor": 5
}
